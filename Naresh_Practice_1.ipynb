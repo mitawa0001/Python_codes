{
 "cells": [
  {
   "cell_type": "code",
   "execution_count": 4,
   "metadata": {},
   "outputs": [
    {
     "name": "stdout",
     "output_type": "stream",
     "text": [
      "MY name is naresh\n",
      "MY roll number is 1820991112CollegeChitkara Unversity\n"
     ]
    }
   ],
   "source": [
    "def name():\n",
    "    print (\"MY name is naresh\")\n",
    "name()\n",
    "def roll(BBA):\n",
    "    print(\"MY roll number is 1820991112\" + BBA + \"Chitkara Unversity\")\n",
    "    \n",
    "roll (\"College\")\n",
    "    "
   ]
  },
  {
   "cell_type": "code",
   "execution_count": 7,
   "metadata": {},
   "outputs": [
    {
     "name": "stdout",
     "output_type": "stream",
     "text": [
      "700280\n"
     ]
    }
   ],
   "source": [
    "def Add(num1, num2):\n",
    "    print(num1 + num2)\n",
    "Add (45626,654654)"
   ]
  },
  {
   "cell_type": "code",
   "execution_count": 11,
   "metadata": {},
   "outputs": [
    {
     "name": "stdout",
     "output_type": "stream",
     "text": [
      "1121\n"
     ]
    }
   ],
   "source": [
    "def returnadd (num1, num2):\n",
    "    return (num1 + num2)\n",
    "    print(\" my name is naresh\")\n",
    "    \n",
    "sum = returnadd(565,556)\n",
    "print(sum)"
   ]
  },
  {
   "cell_type": "code",
   "execution_count": null,
   "metadata": {},
   "outputs": [],
   "source": []
  },
  {
   "cell_type": "code",
   "execution_count": null,
   "metadata": {},
   "outputs": [],
   "source": []
  },
  {
   "cell_type": "code",
   "execution_count": null,
   "metadata": {},
   "outputs": [],
   "source": []
  }
 ],
 "metadata": {
  "kernelspec": {
   "display_name": "Python 3",
   "language": "python",
   "name": "python3"
  },
  "language_info": {
   "codemirror_mode": {
    "name": "ipython",
    "version": 3
   },
   "file_extension": ".py",
   "mimetype": "text/x-python",
   "name": "python",
   "nbconvert_exporter": "python",
   "pygments_lexer": "ipython3",
   "version": "3.7.6"
  }
 },
 "nbformat": 4,
 "nbformat_minor": 4
}
