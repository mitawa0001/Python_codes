{
 "cells": [
  {
   "cell_type": "code",
   "execution_count": 71,
   "metadata": {},
   "outputs": [
    {
     "name": "stdout",
     "output_type": "stream",
     "text": [
      "10\n",
      "5\n",
      "3\n",
      "Return amount :  -20.0\n",
      "Gain/Loss in percentage :  -40.0 %\n"
     ]
    }
   ],
   "source": [
    "ns = int(input())\n",
    "bp = float(input())\n",
    "sp = float(input())\n",
    "out = (sp - bp) * ns\n",
    "per = 100 * (out / (bp * ns))\n",
    "\n",
    "print(\"Return amount : \", out)\n",
    "print(\"Gain/Loss in percentage : \", per, \"%\")"
   ]
  },
  {
   "cell_type": "code",
   "execution_count": 96,
   "metadata": {},
   "outputs": [
    {
     "name": "stdout",
     "output_type": "stream",
     "text": [
      "10 10 20\n",
      "10 12 10\n",
      "5 36 0\n",
      "Return amount :  -10.0\n",
      "Gain/Loss in percentage :  -2.380952380952381 %\n"
     ]
    }
   ],
   "source": [
    "ns = [int(x) for x in input().split()]\n",
    "bp = [float(x) for x in input().split()]\n",
    "sp = [float(x) for x in input().split()]\n",
    "\n",
    "out_amount = 0\n",
    "pocket_amount = 0\n",
    "for i, j in enumerate(ns):\n",
    "    out_amount += (sp[i] - bp[i]) * ns[i]\n",
    "    pocket_amount += ns[i] * bp[i]\n",
    "\n",
    "percentage_amount = out_amount / pocket_amount * 100\n",
    "\n",
    "print(\"Return amount : \", out_amount)\n",
    "print(\"Gain/Loss in percentage : \", percentage_amount, \"%\")\n",
    "\n",
    "    \n"
   ]
  },
  {
   "cell_type": "code",
   "execution_count": null,
   "metadata": {},
   "outputs": [],
   "source": []
  },
  {
   "cell_type": "code",
   "execution_count": null,
   "metadata": {},
   "outputs": [],
   "source": []
  }
 ],
 "metadata": {
  "kernelspec": {
   "display_name": "Python 3",
   "language": "python",
   "name": "python3"
  },
  "language_info": {
   "codemirror_mode": {
    "name": "ipython",
    "version": 3
   },
   "file_extension": ".py",
   "mimetype": "text/x-python",
   "name": "python",
   "nbconvert_exporter": "python",
   "pygments_lexer": "ipython3",
   "version": "3.7.6"
  }
 },
 "nbformat": 4,
 "nbformat_minor": 4
}
