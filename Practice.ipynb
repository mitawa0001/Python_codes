{
 "cells": [
  {
   "cell_type": "code",
   "execution_count": 42,
   "metadata": {},
   "outputs": [
    {
     "name": "stdout",
     "output_type": "stream",
     "text": [
      "23 32 44 -46 -44 33\n"
     ]
    }
   ],
   "source": [
    "arr = [int(x) for x in input().split()]"
   ]
  },
  {
   "cell_type": "code",
   "execution_count": 43,
   "metadata": {},
   "outputs": [
    {
     "name": "stdout",
     "output_type": "stream",
     "text": [
      "-14\n",
      "2\n"
     ]
    }
   ],
   "source": [
    "even_number_sum = 0\n",
    "negative_count = 0\n",
    "for i in arr:\n",
    "    if(i % 2 == 0):\n",
    "        even_number_sum = even_number_sum + i\n",
    "    if(i < 0):\n",
    "        negative_count = negative_count + 1\n",
    "print(even_number_sum)\n",
    "print(negative_count)\n",
    "    "
   ]
  },
  {
   "cell_type": "code",
   "execution_count": 44,
   "metadata": {},
   "outputs": [
    {
     "name": "stdout",
     "output_type": "stream",
     "text": [
      "[23, 32, 44, -46, -44, 33]\n"
     ]
    }
   ],
   "source": [
    "print(arr)"
   ]
  },
  {
   "cell_type": "code",
   "execution_count": 47,
   "metadata": {},
   "outputs": [
    {
     "name": "stdout",
     "output_type": "stream",
     "text": [
      "44\n",
      "-46\n"
     ]
    }
   ],
   "source": [
    "largest = -100000\n",
    "smallest = 1000000\n",
    "for x in arr:\n",
    "    if(x > largest):\n",
    "        largest = x\n",
    "    if(x < smallest):\n",
    "        smallest = x\n",
    "print(largest)\n",
    "print(smallest)"
   ]
  }
 ],
 "metadata": {
  "kernelspec": {
   "display_name": "Python 3",
   "language": "python",
   "name": "python3"
  },
  "language_info": {
   "codemirror_mode": {
    "name": "ipython",
    "version": 3
   },
   "file_extension": ".py",
   "mimetype": "text/x-python",
   "name": "python",
   "nbconvert_exporter": "python",
   "pygments_lexer": "ipython3",
   "version": "3.7.6"
  }
 },
 "nbformat": 4,
 "nbformat_minor": 4
}
